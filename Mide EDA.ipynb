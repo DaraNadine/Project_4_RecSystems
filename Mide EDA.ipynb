{
 "cells": [
  {
   "cell_type": "markdown",
   "metadata": {},
   "source": [
    "# Business Probelm\n",
    "If you choose the Recommendation System option, you will be making movie recommendations based on the MovieLensLinks to an external site. dataset from the GroupLens research lab at the University of Minnesota. Unless you are planning to run your analysis on a paid cloud platform, we recommend that you use the \"small\" dataset containing 100,000 user ratings (and potentially, only a particular subset of that dataset).\n",
    "\n",
    "Your task is to:\n",
    "\n",
    "Build a model that provides top 5 movie recommendations to a user, based on their ratings of other movies.\n",
    "The MovieLens dataset is a \"classic\" recommendation system dataset, that is used in numerous academic papers and machine learning proofs-of-concept. You will need to create the specific details about how the user will provide their ratings of other movies, in addition to formulating a more specific business problem within the general context of \"recommending movies\".\n",
    "\n",
    "Collaborative Filtering\n",
    "At minimum, your recommendation system must use collaborative filtering. If you have time, consider implementing a hybrid approach, e.g. using collaborative filtering as the primary mechanism, but using content-based filtering to address the cold start problemLinks to an external site..\n",
    "\n",
    "Evaluation\n",
    "The MovieLens dataset has explicit ratings, so achieving some sort of evaluation of your model is simple enough. But you should give some thought to the question of metrics. Since the rankings are ordinal, we know we can treat this like a regression problem. But when it comes to regression metrics there are several choices: RMSE, MAE, etc. HereLinks to an external site. are some further ideas."
   ]
  },
  {
   "cell_type": "code",
   "execution_count": null,
   "metadata": {},
   "outputs": [],
   "source": []
  },
  {
   "cell_type": "code",
   "execution_count": 2,
   "metadata": {},
   "outputs": [],
   "source": [
    "\n",
    "import numpy as np\n",
    "import pandas as pd"
   ]
  },
  {
   "cell_type": "code",
   "execution_count": 3,
   "metadata": {},
   "outputs": [
    {
     "name": "stdout",
     "output_type": "stream",
     "text": [
      "        movieId                               title  \\\n",
      "0             1                    Toy Story (1995)   \n",
      "1             2                      Jumanji (1995)   \n",
      "2             3             Grumpier Old Men (1995)   \n",
      "3             4            Waiting to Exhale (1995)   \n",
      "4             5  Father of the Bride Part II (1995)   \n",
      "...         ...                                 ...   \n",
      "123998     7382                                 NaN   \n",
      "123999     7936                                 NaN   \n",
      "124000     3265                                 NaN   \n",
      "124001     3265                                 NaN   \n",
      "124002   168248                                 NaN   \n",
      "\n",
      "                                             genres  imdbId  tmdbId  userId  \\\n",
      "0       Adventure|Animation|Children|Comedy|Fantasy     NaN     NaN     NaN   \n",
      "1                        Adventure|Children|Fantasy     NaN     NaN     NaN   \n",
      "2                                    Comedy|Romance     NaN     NaN     NaN   \n",
      "3                              Comedy|Drama|Romance     NaN     NaN     NaN   \n",
      "4                                            Comedy     NaN     NaN     NaN   \n",
      "...                                             ...     ...     ...     ...   \n",
      "123998                                          NaN     NaN     NaN   606.0   \n",
      "123999                                          NaN     NaN     NaN   606.0   \n",
      "124000                                          NaN     NaN     NaN   610.0   \n",
      "124001                                          NaN     NaN     NaN   610.0   \n",
      "124002                                          NaN     NaN     NaN   610.0   \n",
      "\n",
      "        rating     timestamp               tag  \n",
      "0          NaN           NaN               NaN  \n",
      "1          NaN           NaN               NaN  \n",
      "2          NaN           NaN               NaN  \n",
      "3          NaN           NaN               NaN  \n",
      "4          NaN           NaN               NaN  \n",
      "...        ...           ...               ...  \n",
      "123998     NaN  1.171234e+09         for katie  \n",
      "123999     NaN  1.173392e+09           austere  \n",
      "124000     NaN  1.493844e+09            gun fu  \n",
      "124001     NaN  1.493844e+09  heroic bloodshed  \n",
      "124002     NaN  1.493844e+09  Heroic Bloodshed  \n",
      "\n",
      "[124003 rows x 9 columns]\n"
     ]
    }
   ],
   "source": [
    "#Importing Libraries\n",
    "df = pd.concat(\n",
    "    map(pd.read_csv, ['data/movies.csv', 'data/links.csv', 'data/ratings.csv', 'data/tags.csv']), ignore_index=True)\n",
    "print(df)"
   ]
  },
  {
   "cell_type": "code",
   "execution_count": 4,
   "metadata": {},
   "outputs": [
    {
     "name": "stdout",
     "output_type": "stream",
     "text": [
      "<class 'pandas.core.frame.DataFrame'>\n",
      "RangeIndex: 124003 entries, 0 to 124002\n",
      "Data columns (total 9 columns):\n",
      " #   Column     Non-Null Count   Dtype  \n",
      "---  ------     --------------   -----  \n",
      " 0   movieId    124003 non-null  int64  \n",
      " 1   title      9742 non-null    object \n",
      " 2   genres     9742 non-null    object \n",
      " 3   imdbId     9742 non-null    float64\n",
      " 4   tmdbId     9734 non-null    float64\n",
      " 5   userId     104519 non-null  float64\n",
      " 6   rating     100836 non-null  float64\n",
      " 7   timestamp  104519 non-null  float64\n",
      " 8   tag        3683 non-null    object \n",
      "dtypes: float64(5), int64(1), object(3)\n",
      "memory usage: 8.5+ MB\n"
     ]
    }
   ],
   "source": [
    "df.info()"
   ]
  },
  {
   "cell_type": "code",
   "execution_count": 5,
   "metadata": {},
   "outputs": [
    {
     "data": {
      "text/plain": [
       "4.0    26818\n",
       "3.0    20047\n",
       "5.0    13211\n",
       "3.5    13136\n",
       "4.5     8551\n",
       "2.0     7551\n",
       "2.5     5550\n",
       "1.0     2811\n",
       "1.5     1791\n",
       "0.5     1370\n",
       "Name: rating, dtype: int64"
      ]
     },
     "execution_count": 5,
     "metadata": {},
     "output_type": "execute_result"
    }
   ],
   "source": [
    "df['rating'].value_counts()\n",
    "# ratings range from .5 - 4."
   ]
  },
  {
   "cell_type": "code",
   "execution_count": 6,
   "metadata": {},
   "outputs": [
    {
     "data": {
      "text/plain": [
       "Drama                                          1053\n",
       "Comedy                                          946\n",
       "Comedy|Drama                                    435\n",
       "Comedy|Romance                                  363\n",
       "Drama|Romance                                   349\n",
       "                                               ... \n",
       "Drama|Mystery|Romance|Sci-Fi|Thriller             1\n",
       "Action|Adventure|Drama|Fantasy|Mystery|IMAX       1\n",
       "Animation|Fantasy|Sci-Fi|War                      1\n",
       "Adventure|Fantasy|Thriller|IMAX                   1\n",
       "Action|Comedy|Crime|Drama|Horror|Thriller         1\n",
       "Name: genres, Length: 951, dtype: int64"
      ]
     },
     "execution_count": 6,
     "metadata": {},
     "output_type": "execute_result"
    }
   ],
   "source": [
    "df['genres'].value_counts()"
   ]
  },
  {
   "cell_type": "code",
   "execution_count": 7,
   "metadata": {},
   "outputs": [
    {
     "data": {
      "text/plain": [
       "array(['Toy Story (1995)', 'Jumanji (1995)', 'Grumpier Old Men (1995)',\n",
       "       ..., 'Bungo Stray Dogs: Dead Apple (2018)',\n",
       "       'Andrew Dice Clay: Dice Rules (1991)', nan], dtype=object)"
      ]
     },
     "execution_count": 7,
     "metadata": {},
     "output_type": "execute_result"
    }
   ],
   "source": [
    "df['title'].unique()"
   ]
  },
  {
   "cell_type": "code",
   "execution_count": 8,
   "metadata": {},
   "outputs": [
    {
     "data": {
      "text/plain": [
       "Saturn 3 (1980)                           2\n",
       "Confessions of a Dangerous Mind (2002)    2\n",
       "Emma (1996)                               2\n",
       "War of the Worlds (2005)                  2\n",
       "Eros (2004)                               2\n",
       "                                         ..\n",
       "The Emperor's Club (2002)                 1\n",
       "Reform School Girls (1986)                1\n",
       "Dr. Phibes Rises Again (1972)             1\n",
       "Serendipity (2001)                        1\n",
       "Little Rascals, The (1994)                1\n",
       "Name: title, Length: 9737, dtype: int64"
      ]
     },
     "execution_count": 8,
     "metadata": {},
     "output_type": "execute_result"
    }
   ],
   "source": [
    "df.title.value_counts()"
   ]
  },
  {
   "cell_type": "code",
   "execution_count": 9,
   "metadata": {},
   "outputs": [
    {
     "data": {
      "text/html": [
       "<div>\n",
       "<style scoped>\n",
       "    .dataframe tbody tr th:only-of-type {\n",
       "        vertical-align: middle;\n",
       "    }\n",
       "\n",
       "    .dataframe tbody tr th {\n",
       "        vertical-align: top;\n",
       "    }\n",
       "\n",
       "    .dataframe thead th {\n",
       "        text-align: right;\n",
       "    }\n",
       "</style>\n",
       "<table border=\"1\" class=\"dataframe\">\n",
       "  <thead>\n",
       "    <tr style=\"text-align: right;\">\n",
       "      <th></th>\n",
       "      <th>movieId</th>\n",
       "      <th>title</th>\n",
       "      <th>genres</th>\n",
       "      <th>imdbId</th>\n",
       "      <th>tmdbId</th>\n",
       "      <th>userId</th>\n",
       "      <th>rating</th>\n",
       "      <th>timestamp</th>\n",
       "      <th>tag</th>\n",
       "    </tr>\n",
       "  </thead>\n",
       "  <tbody>\n",
       "    <tr>\n",
       "      <th>0</th>\n",
       "      <td>1</td>\n",
       "      <td>Toy Story (1995)</td>\n",
       "      <td>Adventure|Animation|Children|Comedy|Fantasy</td>\n",
       "      <td>NaN</td>\n",
       "      <td>NaN</td>\n",
       "      <td>NaN</td>\n",
       "      <td>NaN</td>\n",
       "      <td>NaN</td>\n",
       "      <td>NaN</td>\n",
       "    </tr>\n",
       "    <tr>\n",
       "      <th>1</th>\n",
       "      <td>2</td>\n",
       "      <td>Jumanji (1995)</td>\n",
       "      <td>Adventure|Children|Fantasy</td>\n",
       "      <td>NaN</td>\n",
       "      <td>NaN</td>\n",
       "      <td>NaN</td>\n",
       "      <td>NaN</td>\n",
       "      <td>NaN</td>\n",
       "      <td>NaN</td>\n",
       "    </tr>\n",
       "    <tr>\n",
       "      <th>2</th>\n",
       "      <td>3</td>\n",
       "      <td>Grumpier Old Men (1995)</td>\n",
       "      <td>Comedy|Romance</td>\n",
       "      <td>NaN</td>\n",
       "      <td>NaN</td>\n",
       "      <td>NaN</td>\n",
       "      <td>NaN</td>\n",
       "      <td>NaN</td>\n",
       "      <td>NaN</td>\n",
       "    </tr>\n",
       "    <tr>\n",
       "      <th>3</th>\n",
       "      <td>4</td>\n",
       "      <td>Waiting to Exhale (1995)</td>\n",
       "      <td>Comedy|Drama|Romance</td>\n",
       "      <td>NaN</td>\n",
       "      <td>NaN</td>\n",
       "      <td>NaN</td>\n",
       "      <td>NaN</td>\n",
       "      <td>NaN</td>\n",
       "      <td>NaN</td>\n",
       "    </tr>\n",
       "    <tr>\n",
       "      <th>4</th>\n",
       "      <td>5</td>\n",
       "      <td>Father of the Bride Part II (1995)</td>\n",
       "      <td>Comedy</td>\n",
       "      <td>NaN</td>\n",
       "      <td>NaN</td>\n",
       "      <td>NaN</td>\n",
       "      <td>NaN</td>\n",
       "      <td>NaN</td>\n",
       "      <td>NaN</td>\n",
       "    </tr>\n",
       "  </tbody>\n",
       "</table>\n",
       "</div>"
      ],
      "text/plain": [
       "   movieId                               title  \\\n",
       "0        1                    Toy Story (1995)   \n",
       "1        2                      Jumanji (1995)   \n",
       "2        3             Grumpier Old Men (1995)   \n",
       "3        4            Waiting to Exhale (1995)   \n",
       "4        5  Father of the Bride Part II (1995)   \n",
       "\n",
       "                                        genres  imdbId  tmdbId  userId  \\\n",
       "0  Adventure|Animation|Children|Comedy|Fantasy     NaN     NaN     NaN   \n",
       "1                   Adventure|Children|Fantasy     NaN     NaN     NaN   \n",
       "2                               Comedy|Romance     NaN     NaN     NaN   \n",
       "3                         Comedy|Drama|Romance     NaN     NaN     NaN   \n",
       "4                                       Comedy     NaN     NaN     NaN   \n",
       "\n",
       "   rating  timestamp  tag  \n",
       "0     NaN        NaN  NaN  \n",
       "1     NaN        NaN  NaN  \n",
       "2     NaN        NaN  NaN  \n",
       "3     NaN        NaN  NaN  \n",
       "4     NaN        NaN  NaN  "
      ]
     },
     "execution_count": 9,
     "metadata": {},
     "output_type": "execute_result"
    }
   ],
   "source": [
    "df.head()"
   ]
  },
  {
   "cell_type": "code",
   "execution_count": null,
   "metadata": {},
   "outputs": [],
   "source": []
  }
 ],
 "metadata": {
  "kernelspec": {
   "display_name": "Python (learn-env)",
   "language": "python",
   "name": "learn-env"
  },
  "language_info": {
   "codemirror_mode": {
    "name": "ipython",
    "version": 3
   },
   "file_extension": ".py",
   "mimetype": "text/x-python",
   "name": "python",
   "nbconvert_exporter": "python",
   "pygments_lexer": "ipython3",
   "version": "3.8.5"
  }
 },
 "nbformat": 4,
 "nbformat_minor": 4
}
